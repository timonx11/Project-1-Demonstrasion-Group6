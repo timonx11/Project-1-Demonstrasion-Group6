{
 "cells": [
  {
   "cell_type": "markdown",
   "metadata": {},
   "source": [
    "\n"
   ]
  },
  {
   "cell_type": "code",
   "execution_count": 8,
   "metadata": {},
   "outputs": [],
   "source": [
    "import matplotlib.pyplot as plt\n",
    "import pandas as pd\n",
    "import scipy.stats as st\n",
    "from scipy.stats import linregress\n",
    "from scipy.stats import sem\n",
    "import numpy as np\n",
    "import seaborn as sns"
   ]
  },
  {
   "cell_type": "code",
   "execution_count": 9,
   "metadata": {},
   "outputs": [],
   "source": [
    "employers_clean_path = \"employers_clean.csv\"\n",
    "union_data_path = \"union_data.csv\""
   ]
  },
  {
   "cell_type": "code",
   "execution_count": 10,
   "metadata": {},
   "outputs": [],
   "source": [
    "employers_clean_path = pd.read_csv(employers_clean_path)\n",
    "union_data_path = pd.read_csv(union_data_path)"
   ]
  },
  {
   "cell_type": "code",
   "execution_count": 11,
   "metadata": {},
   "outputs": [
    {
     "data": {
      "text/html": [
       "<div>\n",
       "<style scoped>\n",
       "    .dataframe tbody tr th:only-of-type {\n",
       "        vertical-align: middle;\n",
       "    }\n",
       "\n",
       "    .dataframe tbody tr th {\n",
       "        vertical-align: top;\n",
       "    }\n",
       "\n",
       "    .dataframe thead th {\n",
       "        text-align: right;\n",
       "    }\n",
       "</style>\n",
       "<table border=\"1\" class=\"dataframe\">\n",
       "  <thead>\n",
       "    <tr style=\"text-align: right;\">\n",
       "      <th></th>\n",
       "      <th>RANK</th>\n",
       "      <th>NAME</th>\n",
       "      <th>TICKER</th>\n",
       "      <th>INDUSTRIES</th>\n",
       "      <th>Country</th>\n",
       "      <th>EMPLOYEES</th>\n",
       "      <th>City</th>\n",
       "      <th>Glassdoor Rating</th>\n",
       "      <th>obs_value</th>\n",
       "    </tr>\n",
       "  </thead>\n",
       "  <tbody>\n",
       "    <tr>\n",
       "      <th>0</th>\n",
       "      <td>1</td>\n",
       "      <td>Samsung Electronics</td>\n",
       "      <td>005930.KS</td>\n",
       "      <td>Semiconductors, Electronics, Electrical Engine...</td>\n",
       "      <td>South Kore</td>\n",
       "      <td>266,673</td>\n",
       "      <td>Suwon</td>\n",
       "      <td>3.8</td>\n",
       "      <td>NaN</td>\n",
       "    </tr>\n",
       "    <tr>\n",
       "      <th>1</th>\n",
       "      <td>2</td>\n",
       "      <td>Microsoft</td>\n",
       "      <td>MSFT</td>\n",
       "      <td>IT, Internet, Software &amp; Services</td>\n",
       "      <td>United States</td>\n",
       "      <td>221,000</td>\n",
       "      <td>Redmond</td>\n",
       "      <td>4.4</td>\n",
       "      <td>10.3</td>\n",
       "    </tr>\n",
       "    <tr>\n",
       "      <th>2</th>\n",
       "      <td>3</td>\n",
       "      <td>IBM</td>\n",
       "      <td>IBM</td>\n",
       "      <td>Semiconductors, Electronics, Electrical Engine...</td>\n",
       "      <td>United States</td>\n",
       "      <td>250,000</td>\n",
       "      <td>Armonk</td>\n",
       "      <td>4.2</td>\n",
       "      <td>10.3</td>\n",
       "    </tr>\n",
       "    <tr>\n",
       "      <th>3</th>\n",
       "      <td>4</td>\n",
       "      <td>Alphabet</td>\n",
       "      <td>GOOG</td>\n",
       "      <td>IT, Internet, Software &amp; Services</td>\n",
       "      <td>United States</td>\n",
       "      <td>156,500</td>\n",
       "      <td>Mountain View</td>\n",
       "      <td>4.5</td>\n",
       "      <td>10.3</td>\n",
       "    </tr>\n",
       "    <tr>\n",
       "      <th>4</th>\n",
       "      <td>5</td>\n",
       "      <td>Apple</td>\n",
       "      <td>AAPL</td>\n",
       "      <td>Semiconductors, Electronics, Electrical Engine...</td>\n",
       "      <td>United States</td>\n",
       "      <td>154,000</td>\n",
       "      <td>Cupertino</td>\n",
       "      <td>4.1</td>\n",
       "      <td>10.3</td>\n",
       "    </tr>\n",
       "  </tbody>\n",
       "</table>\n",
       "</div>"
      ],
      "text/plain": [
       "   RANK                 NAME     TICKER  \\\n",
       "0     1  Samsung Electronics  005930.KS   \n",
       "1     2            Microsoft       MSFT   \n",
       "2     3                  IBM        IBM   \n",
       "3     4             Alphabet       GOOG   \n",
       "4     5                Apple       AAPL   \n",
       "\n",
       "                                          INDUSTRIES        Country EMPLOYEES  \\\n",
       "0  Semiconductors, Electronics, Electrical Engine...     South Kore   266,673   \n",
       "1                  IT, Internet, Software & Services  United States   221,000   \n",
       "2  Semiconductors, Electronics, Electrical Engine...  United States   250,000   \n",
       "3                  IT, Internet, Software & Services  United States   156,500   \n",
       "4  Semiconductors, Electronics, Electrical Engine...  United States   154,000   \n",
       "\n",
       "            City  Glassdoor Rating  obs_value  \n",
       "0          Suwon               3.8        NaN  \n",
       "1        Redmond               4.4       10.3  \n",
       "2         Armonk               4.2       10.3  \n",
       "3  Mountain View               4.5       10.3  \n",
       "4      Cupertino               4.1       10.3  "
      ]
     },
     "execution_count": 11,
     "metadata": {},
     "output_type": "execute_result"
    }
   ],
   "source": [
    "data_df = pd.merge(union_data_path, employers_clean_path,  how='right', on='Country')\n",
    "data_df.head()\n",
    "\n",
    "# Display the data table for preview\n",
    "\n",
    "data_df = data_df[['RANK', 'NAME', 'TICKER', 'INDUSTRIES', \n",
    "                               'Country', 'EMPLOYEES', 'City', 'Glassdoor Rating', 'obs_value']]\n",
    "\n",
    "data_df.head()"
   ]
  },
  {
   "cell_type": "code",
   "execution_count": 12,
   "metadata": {},
   "outputs": [
    {
     "data": {
      "text/plain": [
       "100"
      ]
     },
     "execution_count": 12,
     "metadata": {},
     "output_type": "execute_result"
    }
   ],
   "source": [
    "employers = data_df[\"RANK\"].value_counts()\n",
    "number_of_employers=len(employers)\n",
    "number_of_employers"
   ]
  },
  {
   "cell_type": "code",
   "execution_count": 13,
   "metadata": {},
   "outputs": [
    {
     "data": {
      "text/html": [
       "<div>\n",
       "<style scoped>\n",
       "    .dataframe tbody tr th:only-of-type {\n",
       "        vertical-align: middle;\n",
       "    }\n",
       "\n",
       "    .dataframe tbody tr th {\n",
       "        vertical-align: top;\n",
       "    }\n",
       "\n",
       "    .dataframe thead th {\n",
       "        text-align: right;\n",
       "    }\n",
       "</style>\n",
       "<table border=\"1\" class=\"dataframe\">\n",
       "  <thead>\n",
       "    <tr style=\"text-align: right;\">\n",
       "      <th></th>\n",
       "      <th>RANK</th>\n",
       "      <th>NAME</th>\n",
       "      <th>TICKER</th>\n",
       "      <th>INDUSTRIES</th>\n",
       "      <th>Country</th>\n",
       "      <th>EMPLOYEES</th>\n",
       "      <th>City</th>\n",
       "      <th>Glassdoor Rating</th>\n",
       "      <th>obs_value</th>\n",
       "    </tr>\n",
       "  </thead>\n",
       "  <tbody>\n",
       "    <tr>\n",
       "      <th>0</th>\n",
       "      <td>1</td>\n",
       "      <td>Samsung Electronics</td>\n",
       "      <td>005930.KS</td>\n",
       "      <td>Semiconductors, Electronics, Electrical Engine...</td>\n",
       "      <td>South Kore</td>\n",
       "      <td>266,673</td>\n",
       "      <td>Suwon</td>\n",
       "      <td>3.8</td>\n",
       "      <td>NaN</td>\n",
       "    </tr>\n",
       "    <tr>\n",
       "      <th>1</th>\n",
       "      <td>2</td>\n",
       "      <td>Microsoft</td>\n",
       "      <td>MSFT</td>\n",
       "      <td>IT, Internet, Software &amp; Services</td>\n",
       "      <td>United States</td>\n",
       "      <td>221,000</td>\n",
       "      <td>Redmond</td>\n",
       "      <td>4.4</td>\n",
       "      <td>10.3</td>\n",
       "    </tr>\n",
       "    <tr>\n",
       "      <th>2</th>\n",
       "      <td>3</td>\n",
       "      <td>IBM</td>\n",
       "      <td>IBM</td>\n",
       "      <td>Semiconductors, Electronics, Electrical Engine...</td>\n",
       "      <td>United States</td>\n",
       "      <td>250,000</td>\n",
       "      <td>Armonk</td>\n",
       "      <td>4.2</td>\n",
       "      <td>10.3</td>\n",
       "    </tr>\n",
       "    <tr>\n",
       "      <th>3</th>\n",
       "      <td>4</td>\n",
       "      <td>Alphabet</td>\n",
       "      <td>GOOG</td>\n",
       "      <td>IT, Internet, Software &amp; Services</td>\n",
       "      <td>United States</td>\n",
       "      <td>156,500</td>\n",
       "      <td>Mountain View</td>\n",
       "      <td>4.5</td>\n",
       "      <td>10.3</td>\n",
       "    </tr>\n",
       "    <tr>\n",
       "      <th>4</th>\n",
       "      <td>5</td>\n",
       "      <td>Apple</td>\n",
       "      <td>AAPL</td>\n",
       "      <td>Semiconductors, Electronics, Electrical Engine...</td>\n",
       "      <td>United States</td>\n",
       "      <td>154,000</td>\n",
       "      <td>Cupertino</td>\n",
       "      <td>4.1</td>\n",
       "      <td>10.3</td>\n",
       "    </tr>\n",
       "    <tr>\n",
       "      <th>...</th>\n",
       "      <td>...</td>\n",
       "      <td>...</td>\n",
       "      <td>...</td>\n",
       "      <td>...</td>\n",
       "      <td>...</td>\n",
       "      <td>...</td>\n",
       "      <td>...</td>\n",
       "      <td>...</td>\n",
       "      <td>...</td>\n",
       "    </tr>\n",
       "    <tr>\n",
       "      <th>95</th>\n",
       "      <td>96</td>\n",
       "      <td>Mastercard</td>\n",
       "      <td>MA</td>\n",
       "      <td>Banking and Financial Services</td>\n",
       "      <td>United States</td>\n",
       "      <td>24,000</td>\n",
       "      <td>Purchase</td>\n",
       "      <td>4.3</td>\n",
       "      <td>10.3</td>\n",
       "    </tr>\n",
       "    <tr>\n",
       "      <th>96</th>\n",
       "      <td>97</td>\n",
       "      <td>Electricite de France</td>\n",
       "      <td>EDF.PA</td>\n",
       "      <td>Utilities</td>\n",
       "      <td>France</td>\n",
       "      <td>167,157</td>\n",
       "      <td>Paris</td>\n",
       "      <td>4.0</td>\n",
       "      <td>8.9</td>\n",
       "    </tr>\n",
       "    <tr>\n",
       "      <th>97</th>\n",
       "      <td>98</td>\n",
       "      <td>Verbund</td>\n",
       "      <td>VER.VI</td>\n",
       "      <td>Utilities</td>\n",
       "      <td>Austria</td>\n",
       "      <td>3,184</td>\n",
       "      <td>Vienna</td>\n",
       "      <td>4.7</td>\n",
       "      <td>26.2</td>\n",
       "    </tr>\n",
       "    <tr>\n",
       "      <th>98</th>\n",
       "      <td>99</td>\n",
       "      <td>Panasonic</td>\n",
       "      <td>6572.T</td>\n",
       "      <td>Engineering, Manufacturing</td>\n",
       "      <td>Japan</td>\n",
       "      <td>240,198</td>\n",
       "      <td>Kadoma</td>\n",
       "      <td>3.8</td>\n",
       "      <td>16.8</td>\n",
       "    </tr>\n",
       "    <tr>\n",
       "      <th>99</th>\n",
       "      <td>100</td>\n",
       "      <td>Emirates</td>\n",
       "      <td>none</td>\n",
       "      <td>Transportation and Logistics</td>\n",
       "      <td>United Arab Emirates</td>\n",
       "      <td>85,219</td>\n",
       "      <td>Dubai</td>\n",
       "      <td>4.1</td>\n",
       "      <td>NaN</td>\n",
       "    </tr>\n",
       "  </tbody>\n",
       "</table>\n",
       "<p>100 rows × 9 columns</p>\n",
       "</div>"
      ],
      "text/plain": [
       "    RANK                   NAME     TICKER  \\\n",
       "0      1    Samsung Electronics  005930.KS   \n",
       "1      2              Microsoft       MSFT   \n",
       "2      3                    IBM        IBM   \n",
       "3      4               Alphabet       GOOG   \n",
       "4      5                  Apple       AAPL   \n",
       "..   ...                    ...        ...   \n",
       "95    96             Mastercard         MA   \n",
       "96    97  Electricite de France     EDF.PA   \n",
       "97    98                Verbund     VER.VI   \n",
       "98    99              Panasonic     6572.T   \n",
       "99   100               Emirates       none   \n",
       "\n",
       "                                           INDUSTRIES               Country  \\\n",
       "0   Semiconductors, Electronics, Electrical Engine...            South Kore   \n",
       "1                   IT, Internet, Software & Services         United States   \n",
       "2   Semiconductors, Electronics, Electrical Engine...         United States   \n",
       "3                   IT, Internet, Software & Services         United States   \n",
       "4   Semiconductors, Electronics, Electrical Engine...         United States   \n",
       "..                                                ...                   ...   \n",
       "95                     Banking and Financial Services         United States   \n",
       "96                                          Utilities                France   \n",
       "97                                          Utilities               Austria   \n",
       "98                         Engineering, Manufacturing                 Japan   \n",
       "99                       Transportation and Logistics  United Arab Emirates   \n",
       "\n",
       "   EMPLOYEES           City  Glassdoor Rating  obs_value  \n",
       "0    266,673          Suwon               3.8        NaN  \n",
       "1    221,000        Redmond               4.4       10.3  \n",
       "2    250,000         Armonk               4.2       10.3  \n",
       "3    156,500  Mountain View               4.5       10.3  \n",
       "4    154,000      Cupertino               4.1       10.3  \n",
       "..       ...            ...               ...        ...  \n",
       "95    24,000       Purchase               4.3       10.3  \n",
       "96   167,157          Paris               4.0        8.9  \n",
       "97     3,184         Vienna               4.7       26.2  \n",
       "98   240,198         Kadoma               3.8       16.8  \n",
       "99    85,219          Dubai               4.1        NaN  \n",
       "\n",
       "[100 rows x 9 columns]"
      ]
     },
     "execution_count": 13,
     "metadata": {},
     "output_type": "execute_result"
    }
   ],
   "source": [
    "forbes_100 = data_df[data_df[\"RANK\"] != 'none'].reset_index(drop=True)\n",
    "forbes_100.head(100)"
   ]
  },
  {
   "cell_type": "code",
   "execution_count": 14,
   "metadata": {},
   "outputs": [
    {
     "data": {
      "image/png": "[encoded data removed]",
      "text/plain": [
       "<Figure size 640x480 with 1 Axes>"
      ]
     },
     "metadata": {},
     "output_type": "display_data"
    }
   ],
   "source": [
    "data_df.plot.scatter(x='RANK',y='obs_value', title='obs_value Vs Rank', s=100, c= 'green')\n",
    "                     \n",
    "                     \n",
    "plt.gca().invert_xaxis()\n",
    "\n",
    "\n"
   ]
  },
  {
   "cell_type": "code",
   "execution_count": 15,
   "metadata": {},
   "outputs": [],
   "source": [
    "##Correlation and Regression\n"
   ]
  },
  {
   "cell_type": "code",
   "execution_count": 16,
   "metadata": {},
   "outputs": [
    {
     "data": {
      "text/plain": [
       "0.1425655171036854"
      ]
     },
     "execution_count": 16,
     "metadata": {},
     "output_type": "execute_result"
    }
   ],
   "source": [
    "correlation=data_df[\"RANK\"].corr(data_df[\"obs_value\"])\n",
    "correlation"
   ]
  },
  {
   "cell_type": "code",
   "execution_count": 17,
   "metadata": {},
   "outputs": [
    {
     "data": {
      "image/png": "[encoded data removed]",
      "text/plain": [
       "<Figure size 640x480 with 1 Axes>"
      ]
     },
     "metadata": {},
     "output_type": "display_data"
    }
   ],
   "source": [
    "sns.regplot(x=data_df[\"RANK\"], y=data_df[\"obs_value\"])\n",
    "plt.gca().invert_xaxis()"
   ]
  },
  {
   "cell_type": "code",
   "execution_count": null,
   "metadata": {},
   "outputs": [],
   "source": []
  },
  {
   "cell_type": "code",
   "execution_count": 18,
   "metadata": {},
   "outputs": [
    {
     "data": {
      "text/plain": [
       "Text(0.5, 1.0, 'Country Vs obs_value')"
      ]
     },
     "execution_count": 18,
     "metadata": {},
     "output_type": "execute_result"
    },
    {
     "data": {
      "image/png": "[encoded data removed]",
      "text/plain": [
       "<Figure size 640x480 with 1 Axes>"
      ]
     },
     "metadata": {},
     "output_type": "display_data"
    }
   ],
   "source": [
    "bar_plot = data_df['Country'].value_counts().plot.bar(width=0.9, zorder=10)\n",
    "\n",
    "bar_plot.set_xlabel(\"Country\")\n",
    "bar_plot.set_ylabel(\"obs_value\")\n",
    "bar_plot.set_title(\"Country Vs obs_value\")"
   ]
  },
  {
   "cell_type": "code",
   "execution_count": null,
   "metadata": {},
   "outputs": [],
   "source": []
  },
  {
   "cell_type": "code",
   "execution_count": null,
   "metadata": {},
   "outputs": [],
   "source": []
  },
  {
   "cell_type": "code",
   "execution_count": null,
   "metadata": {},
   "outputs": [],
   "source": []
  },
  {
   "cell_type": "code",
   "execution_count": null,
   "metadata": {},
   "outputs": [],
   "source": []
  }
 ],
 "metadata": {
  "anaconda-cloud": {},
  "kernelspec": {
   "display_name": "Python 3 (ipykernel)",
   "language": "python",
   "name": "python3"
  },
  "language_info": {
   "codemirror_mode": {
    "name": "ipython",
    "version": 3
   },
   "file_extension": ".py",
   "mimetype": "text/x-python",
   "name": "python",
   "nbconvert_exporter": "python",
   "pygments_lexer": "ipython3",
   "version": "3.9.13"
  },
  "vscode": {
   "interpreter": {
    "hash": "37ae7d96f9a421ca8c12a471c20156300b02b9905600a753a3d7ce55edc484e8"
   }
  }
 },
 "nbformat": 4,
 "nbformat_minor": 4
}
