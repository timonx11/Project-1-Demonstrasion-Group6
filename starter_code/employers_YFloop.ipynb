{
 "cells": [
  {
   "cell_type": "code",
   "execution_count": null,
   "id": "8aa55380",
   "metadata": {},
   "outputs": [],
   "source": [
    "import requests\n",
    "import json\n",
    "import pandas as pd\n",
    "import matplotlib.pyplot as plt\n",
    "import yfinance as yf"
   ]
  },
  {
   "cell_type": "code",
   "execution_count": null,
   "id": "5469af86",
   "metadata": {},
   "outputs": [],
   "source": [
    "filename = \"resources/employers_clean.csv\"\n",
    "employers_df=pd.read_csv(filename)"
   ]
  },
  {
   "cell_type": "code",
   "execution_count": null,
   "id": "72750433",
   "metadata": {},
   "outputs": [],
   "source": [
    "employers_df.head()"
   ]
  },
  {
   "cell_type": "code",
   "execution_count": null,
   "id": "19070601",
   "metadata": {},
   "outputs": [],
   "source": [
    "employers_reduced = employers_df[employers_df[\"TICKER\"] != 'none'].reset_index(drop=True)"
   ]
  },
  {
   "cell_type": "code",
   "execution_count": null,
   "id": "af87d4f9",
   "metadata": {},
   "outputs": [],
   "source": [
    "employers_reduced.head(24)"
   ]
  },
  {
   "cell_type": "code",
   "execution_count": null,
   "id": "9a13e0ec",
   "metadata": {},
   "outputs": [],
   "source": [
    "employers_reduced['1 year stock performance']=\"\"\n",
    "employers_reduced['return on equity']=\"\"\n",
    "employers_reduced"
   ]
  },
  {
   "cell_type": "code",
   "execution_count": null,
   "id": "f5ac6c6c",
   "metadata": {},
   "outputs": [],
   "source": [
    "google=yf.Ticker(\"GOOG\")\n",
    "google.info"
   ]
  },
  {
   "cell_type": "code",
   "execution_count": null,
   "id": "5ebc04b9",
   "metadata": {},
   "outputs": [],
   "source": [
    "print('Finding stock data..')\n",
    "print(\"-\"*20)\n",
    "for index,row in employers_reduced.iterrows():\n",
    "    company=employers_reduced.loc[index,'NAME']\n",
    "    ticker=employers_reduced.loc[index,'TICKER']\n",
    "    stock_data=yf.Ticker(ticker)\n",
    "    try:\n",
    "        employers_reduced.loc[index, \"1 year stock performance\"]=round(stock_data.info[\"52WeekChange\"]*100,2)\n",
    "        employers_reduced.loc[index, \"return on equity\"]=round(stock_data.info[\"returnOnEquity\"]*100,2)\n",
    "    except:\n",
    "        employers_reduced.loc[index, \"1 year stock performance\"]=\"No data found\"\n",
    "\n",
    "    print(f\"{company} ({ticker}): {employers_reduced.loc[index, '1 year stock performance']}% 1yr stock performance; {employers_reduced.loc[index, 'return on equity']}% RoE\")\n",
    "    print(\"-\"*20)\n",
    "\n",
    "employers_reduced"
   ]
  },
  {
   "cell_type": "code",
   "execution_count": null,
   "id": "d6cde70c",
   "metadata": {},
   "outputs": [],
   "source": []
  }
 ],
 "metadata": {
  "kernelspec": {
   "display_name": "Python 3 (ipykernel)",
   "language": "python",
   "name": "python3"
  },
  "language_info": {
   "codemirror_mode": {
    "name": "ipython",
    "version": 3
   },
   "file_extension": ".py",
   "mimetype": "text/x-python",
   "name": "python",
   "nbconvert_exporter": "python",
   "pygments_lexer": "ipython3",
   "version": "3.7.7"
  }
 },
 "nbformat": 4,
 "nbformat_minor": 5
}
