{
 "cells": [
  {
   "cell_type": "code",
   "execution_count": null,
   "id": "4dc4ad0c",
   "metadata": {},
   "outputs": [],
   "source": [
    "import requests\n",
    "import json\n",
    "import pandas as pd\n",
    "import matplotlib.pyplot as plt\n",
    "import yfinance as yf"
   ]
  },
  {
   "cell_type": "code",
   "execution_count": null,
   "id": "04addf57",
   "metadata": {},
   "outputs": [],
   "source": [
    "filename = \"employers_clean.csv\"\n",
    "employers_df=pd.read_csv(filename)"
   ]
  },
  {
   "cell_type": "code",
   "execution_count": null,
   "id": "fe9b415e",
   "metadata": {},
   "outputs": [],
   "source": [
    "employers_df.head()"
   ]
  },
  {
   "cell_type": "code",
   "execution_count": null,
   "id": "91b6365c",
   "metadata": {},
   "outputs": [],
   "source": [
    "employers_reduced = employers_df[employers_df[\"TICKER\"] != 'none'].reset_index(drop=True)"
   ]
  },
  {
   "cell_type": "code",
   "execution_count": null,
   "id": "678659bb",
   "metadata": {},
   "outputs": [],
   "source": [
    "employers_reduced.head(24)"
   ]
  },
  {
   "cell_type": "code",
   "execution_count": null,
   "id": "1869bb9e",
   "metadata": {},
   "outputs": [],
   "source": [
    "employers_reduced['1 year stock performance']=\"\"\n",
    "employers_reduced"
   ]
  },
  {
   "cell_type": "code",
   "execution_count": null,
   "id": "43aeede4",
   "metadata": {},
   "outputs": [],
   "source": [
    "google=yf.Ticker(\"GOOG\")\n",
    "google.info"
   ]
  },
  {
   "cell_type": "code",
   "execution_count": null,
   "id": "278070b4",
   "metadata": {},
   "outputs": [],
   "source": [
    "print('Finding stock data..')\n",
    "\n",
    "for index,row in employers_reduced.iterrows():\n",
    "    company=employers_reduced.loc[index,'NAME']\n",
    "    ticker=employers_reduced.loc[index,'TICKER']\n",
    "    stock_data=yf.Ticker(ticker)\n",
    "    try:\n",
    "        employers_reduced.loc[index, \"1 year stock performance\"]=stock_data.info['52WeekChange']\n",
    "    except:\n",
    "        employers_reduced.loc[index, \"1 year stock performance\"]=\"No data found\"\n",
    "\n",
    "    print(f\"{company} ({ticker}): {employers_reduced.loc[index, '1 year stock performance']}\")\n",
    "\n",
    "employers_reduced"
   ]
  },
  {
   "cell_type": "code",
   "execution_count": null,
   "id": "27b67d26",
   "metadata": {},
   "outputs": [],
   "source": []
  }
 ],
 "metadata": {
  "kernelspec": {
   "display_name": "Python 3 (ipykernel)",
   "language": "python",
   "name": "python3"
  },
  "language_info": {
   "codemirror_mode": {
    "name": "ipython",
    "version": 3
   },
   "file_extension": ".py",
   "mimetype": "text/x-python",
   "name": "python",
   "nbconvert_exporter": "python",
   "pygments_lexer": "ipython3",
   "version": "3.7.7"
  }
 },
 "nbformat": 4,
 "nbformat_minor": 5
}
