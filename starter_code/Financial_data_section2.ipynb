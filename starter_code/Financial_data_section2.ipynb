{
 "cells": [
  {
   "cell_type": "code",
   "execution_count": null,
   "id": "26651918",
   "metadata": {},
   "outputs": [],
   "source": [
    "import requests\n",
    "import json\n",
    "import pandas as pd\n",
    "import matplotlib.pyplot as plt\n",
    "import yfinance as yf\n",
    "import scipy.stats as st\n",
    "import seaborn as sns"
   ]
  },
  {
   "cell_type": "code",
   "execution_count": null,
   "id": "cbc3ee37",
   "metadata": {},
   "outputs": [],
   "source": [
    "filename = \"resources/employers_clean.csv\"\n",
    "employers_df=pd.read_csv(filename)"
   ]
  },
  {
   "cell_type": "code",
   "execution_count": null,
   "id": "d323c0b1",
   "metadata": {},
   "outputs": [],
   "source": [
    "employers_df"
   ]
  },
  {
   "cell_type": "code",
   "execution_count": null,
   "id": "a82988c9",
   "metadata": {},
   "outputs": [],
   "source": [
    "employers_reduced = employers_df[employers_df[\"TICKER\"] != 'none'].reset_index(drop=True)"
   ]
  },
  {
   "cell_type": "code",
   "execution_count": null,
   "id": "61fc3594",
   "metadata": {},
   "outputs": [],
   "source": [
    "employers_reduced.head()"
   ]
  },
  {
   "cell_type": "code",
   "execution_count": null,
   "id": "adf72447",
   "metadata": {},
   "outputs": [],
   "source": [
    "employers_reduced['1 year stock performance']=\"\"\n",
    "employers_reduced['return on equity']=\"\"\n",
    "employers_reduced['Analyst Recommendation Mean']=\"\"\n",
    "employers_reduced['Operating Income']=\"\"\n",
    "\n",
    "\n",
    "employers_reduced"
   ]
  },
  {
   "cell_type": "code",
   "execution_count": null,
   "id": "eb579749",
   "metadata": {},
   "outputs": [],
   "source": []
  },
  {
   "cell_type": "code",
   "execution_count": null,
   "id": "120584d4",
   "metadata": {},
   "outputs": [],
   "source": [
    "print('Finding stock data..')\n",
    "print(\"-\"*20)\n",
    "for index,row in employers_reduced.iterrows():\n",
    "    company=employers_reduced.loc[index,'NAME']\n",
    "    ticker=employers_reduced.loc[index,'TICKER']\n",
    "    stock_data=yf.Ticker(ticker)\n",
    "    try:\n",
    "        employers_reduced.loc[index, \"1 year stock performance\"]=round(stock_data.info[\"52WeekChange\"]*100,2)\n",
    "        employers_reduced.loc[index, \"return on equity\"]=round(stock_data.info[\"returnOnEquity\"]*100,2)\n",
    "        employers_reduced.loc[index, \"Analyst Recommendation Mean\"]=stock_data.info['recommendationMean']\n",
    "        employers_reduced.loc[index, 'Operating Income']=stock_data.info['ebitda']\n",
    "    except:\n",
    "        employers_reduced.loc[index, \"1 year stock performance\"]=\"No data found\"\n",
    "        employers_reduced.loc[index, \"return on equity\"]=\"No data found\"\n",
    "        employers_reduced.loc[index, \"Analyst Recommendation Mean\"]=\"No data found\"\n",
    "        employers_reduced.loc[index, \"Operating Income\"]=\"No data found\"\n",
    "        \n",
    "    print(f\"{company} ({ticker}): {employers_reduced.loc[index, '1 year stock performance']}% 1yr stock performance; {employers_reduced.loc[index, 'return on equity']}% RoE; Mean Analyst Rec: {employers_reduced.loc[index, 'Analyst Recommendation Mean']}; EBITDA: {employers_reduced.loc[index, 'Operating Income']}\")\n",
    "    print(\"-\"*20)\n",
    "\n",
    "employers_reduced"
   ]
  },
  {
   "cell_type": "code",
   "execution_count": null,
   "id": "be288f0a",
   "metadata": {},
   "outputs": [],
   "source": [
    "employers_reduced[\"Operating Income\"].astype(str)\n",
    "employers_filter=employers_reduced.dropna(axis=0,how='any')\n",
    "employers_filter=employers_filter.loc[employers_filter['1 year stock performance']!= \"No data found\"]\n",
    "employers_filter[\"Operating Income\"].astype(int)\n",
    "employers_filter[\"EMPLOYEES\"]=employers_filter[\"EMPLOYEES\"].str.replace(',', '').astype(int)\n",
    "\n",
    "\n",
    "employers_filter.head()\n",
    "\n"
   ]
  },
  {
   "cell_type": "code",
   "execution_count": null,
   "id": "b5190021",
   "metadata": {},
   "outputs": [],
   "source": [
    "employers_filter[\"Operating income per employee\"]=employers_filter[\"Operating Income\"]/employers_filter[\"EMPLOYEES\"]\n",
    "# pd.options.display.float_format = '{:,.2f}'.format\n",
    "employers_filter[\"Operating income per employee\"]=employers_filter[\"Operating income per employee\"].astype(int)\n",
    "employers_filter.head()"
   ]
  },
  {
   "cell_type": "code",
   "execution_count": null,
   "id": "31c0eec7",
   "metadata": {},
   "outputs": [],
   "source": [
    "stock = employers_filter['1 year stock performance'].astype(float)\n",
    "stock_z=st.zscore(stock)\n",
    "\n",
    "roe= employers_filter['return on equity'].astype(float)\n",
    "roe_z=st.zscore(roe)\n",
    "\n",
    "op_emp=employers_filter['Operating income per employee'].astype(float)\n",
    "op_emp_z=st.zscore(op_emp)\n",
    "\n",
    "analyst=employers_filter['Analyst Recommendation Mean'].astype(float)\n",
    "analyst_z=st.zscore(analyst)"
   ]
  },
  {
   "cell_type": "code",
   "execution_count": null,
   "id": "51e81add",
   "metadata": {},
   "outputs": [],
   "source": [
    "employers_filter.head()"
   ]
  },
  {
   "cell_type": "code",
   "execution_count": null,
   "id": "5e71e1b2",
   "metadata": {},
   "outputs": [],
   "source": [
    "rank=employers_filter[\"RANK\"]\n",
    "glassdoor=employers_filter[\"Glassdoor Rating\"]\n",
    "rec=employers_filter[\"Analyst Recommendation Mean\"]\n",
    "stock=employers_filter[\"1 year stock performance\"]\n"
   ]
  },
  {
   "cell_type": "code",
   "execution_count": null,
   "id": "bad5160f",
   "metadata": {},
   "outputs": [],
   "source": [
    "fig,axes=plt.subplots(4,2, figsize=(18,14))\n",
    "fig.suptitle('100 Best Employers: initial financial analysis', size=18, weight='bold')\n",
    "\n",
    "ax1=sns.scatterplot(ax=axes[0,0], data=employers_filter, x='RANK',y='1 year stock performance',color='red',edgecolor=\"black\")\n",
    "axes[0,0].invert_xaxis()\n",
    "axes[0,0].set_ylabel('1 year stock \\nperformance (%)',fontsize = 16, weight='bold')\n",
    "axes[0,0].set_xlabel(\"'World's Best Employers' ranking\",fontsize = 16, weight='bold')\n",
    "axes[0,0].xaxis.set_label_position('top') \n",
    "\n",
    "sns.scatterplot(ax=axes[0,1], data=employers_filter, x='Glassdoor Rating',y='1 year stock performance',color='red',edgecolor=\"black\")\n",
    "\n",
    "axes[0,1].set_ylabel(' ',fontsize = 16)\n",
    "axes[0,1].set_xlabel(\"Glassdoor Overall Rating\",fontsize = 16, weight='bold')\n",
    "axes[0,1].xaxis.set_label_position('top') \n",
    "\n",
    "sns.scatterplot(ax=axes[1,0], data=employers_filter, x='RANK',y='return on equity',color='green',edgecolor=\"black\")\n",
    "axes[1,0].invert_xaxis()\n",
    "axes[1,0].set_ylabel('Return on equity \\n(%)',fontsize = 16, weight='bold')\n",
    "axes[1,0].set_xlabel(\" \",fontsize = 16)\n",
    "\n",
    "\n",
    "sns.scatterplot(ax=axes[1,1], data=employers_filter, x='Glassdoor Rating',y='return on equity',color='green',edgecolor=\"black\")\n",
    "axes[1,1].set_ylabel(' ',fontsize = 16)\n",
    "axes[1,1].set_xlabel(\" \",fontsize = 16)\n",
    "\n",
    "\n",
    "sns.scatterplot(ax=axes[2,0], data=employers_filter, x='RANK',y='Analyst Recommendation Mean',color='gold',edgecolor=\"black\")\n",
    "axes[2,0].invert_xaxis()\n",
    "axes[2,0].invert_yaxis()\n",
    "axes[2,0].set_ylabel('Mean Analyst \\n Recommendations',fontsize = 16, weight='bold')\n",
    "axes[2,0].set_xlabel(\" \",fontsize = 16)\n",
    "\n",
    "\n",
    "sns.scatterplot(ax=axes[2,1], data=employers_filter, x='Glassdoor Rating',y='Analyst Recommendation Mean',color='gold',edgecolor=\"black\")\n",
    "axes[2,1].set_ylabel(' ',fontsize = 16)\n",
    "axes[2,1].invert_yaxis()\n",
    "axes[2,1].set_xlabel(\" \",fontsize = 16)\n",
    "\n",
    "sns.scatterplot(ax=axes[3,0], data=employers_filter, x='RANK',y='Operating income per employee',color='blue',edgecolor=\"black\")\n",
    "axes[3,0].invert_xaxis()\n",
    "axes[3,0].set_ylabel('Op. income per \\n employee ($)',fontsize = 16, weight='bold')\n",
    "axes[3,0].set_xlabel(\" \",fontsize = 16)\n",
    "\n",
    "\n",
    "sns.scatterplot(ax=axes[3,1], data=employers_filter, x='Glassdoor Rating',y='Operating income per employee',color='blue',edgecolor=\"black\")\n",
    "axes[3,1].set_ylabel(\" \",fontsize = 16)\n",
    "axes[3,1].set_xlabel(\" \",fontsize = 16)\n",
    "\n",
    "\n",
    "plt.show()\n",
    "plt.savefig('Images/Yfinance_scatter.png')\n"
   ]
  },
  {
   "cell_type": "code",
   "execution_count": null,
   "id": "aba3d78d",
   "metadata": {},
   "outputs": [],
   "source": [
    "fig=plt.figure()\n",
    "ax=fig.add_axes([0,0,1,1])\n",
    "ax1=ax.scatter(rank,stock_z,color='Red',label='52 week stock performance',edgecolor=\"black\")\n",
    "ax2=ax.scatter(rank,roe_z,color='green',label='Return on equity')\n",
    "ax3=ax.scatter(rank,analyst_z,color='gold',label=\"Mean analysts recommendation\",edgecolor=\"black\")\n",
    "ax4=ax.scatter(rank,op_emp_z,color='blue',label=\"Operating income per employee\")\n",
    "ax.legend(handles=[ax1,ax2,ax3,ax4],prop={'size':10})\n",
    "ax.set_xlabel(\"Rankings\", size=14)\n",
    "ax.set_ylabel(\"z-scores\", size=14)\n",
    "ax.set_title(\"Financial performance of top 100 (standardised)\",size=16)\n",
    "ax.invert_xaxis()\n",
    "\n",
    "plt.show()\n",
    "plt.savefig('Images/fin_perf_std.png')"
   ]
  },
  {
   "cell_type": "code",
   "execution_count": null,
   "id": "6837ab4d",
   "metadata": {},
   "outputs": [],
   "source": []
  },
  {
   "cell_type": "code",
   "execution_count": null,
   "id": "028db3c1",
   "metadata": {},
   "outputs": [],
   "source": []
  },
  {
   "cell_type": "code",
   "execution_count": null,
   "id": "19460dff",
   "metadata": {},
   "outputs": [],
   "source": []
  },
  {
   "cell_type": "code",
   "execution_count": null,
   "id": "b3e40594",
   "metadata": {},
   "outputs": [],
   "source": []
  },
  {
   "cell_type": "code",
   "execution_count": null,
   "id": "cfcbe9f1",
   "metadata": {},
   "outputs": [],
   "source": []
  },
  {
   "cell_type": "code",
   "execution_count": null,
   "id": "7597f6a1",
   "metadata": {},
   "outputs": [],
   "source": []
  },
  {
   "cell_type": "code",
   "execution_count": null,
   "id": "081ed177",
   "metadata": {},
   "outputs": [],
   "source": [
    "\n",
    "\n"
   ]
  },
  {
   "cell_type": "code",
   "execution_count": null,
   "id": "1de3e771",
   "metadata": {},
   "outputs": [],
   "source": []
  },
  {
   "cell_type": "code",
   "execution_count": null,
   "id": "caa9a5da",
   "metadata": {},
   "outputs": [],
   "source": [
    "\n"
   ]
  },
  {
   "cell_type": "code",
   "execution_count": null,
   "id": "cbe2b36a",
   "metadata": {},
   "outputs": [],
   "source": []
  }
 ],
 "metadata": {
  "kernelspec": {
   "display_name": "Python 3 (ipykernel)",
   "language": "python",
   "name": "python3"
  },
  "language_info": {
   "codemirror_mode": {
    "name": "ipython",
    "version": 3
   },
   "file_extension": ".py",
   "mimetype": "text/x-python",
   "name": "python",
   "nbconvert_exporter": "python",
   "pygments_lexer": "ipython3",
   "version": "3.7.7"
  }
 },
 "nbformat": 4,
 "nbformat_minor": 5
}
