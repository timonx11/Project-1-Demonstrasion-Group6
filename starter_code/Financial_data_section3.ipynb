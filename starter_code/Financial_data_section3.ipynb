{
 "cells": [
  {
   "cell_type": "code",
   "execution_count": 5,
   "metadata": {},
   "outputs": [],
   "source": [
    "# Dependencies\n",
    "import pandas as pd\n",
    "import numpy as np\n",
    "import matplotlib.pyplot as plt\n",
    "import requests\n",
    "import json\n",
    "from parse import *\n",
    "from config import api_key\n",
    "import nasdaqdatalink\n",
    "import scipy.stats as stats\n",
    "from statistics import mean"
   ]
  },
  {
   "cell_type": "code",
   "execution_count": 32,
   "metadata": {},
   "outputs": [
    {
     "name": "stdout",
     "output_type": "stream",
     "text": [
      "<class 'pandas.core.frame.DataFrame'>\n",
      "Int64Index: 87 entries, 0 to 99\n",
      "Data columns (total 12 columns):\n",
      " #   Column              Non-Null Count  Dtype  \n",
      "---  ------              --------------  -----  \n",
      " 0   RANK                87 non-null     int64  \n",
      " 1   NAME                87 non-null     object \n",
      " 2   TICKER              87 non-null     object \n",
      " 3   INDUSTRIES          87 non-null     object \n",
      " 4   Country             87 non-null     object \n",
      " 5   EMPLOYEES           87 non-null     object \n",
      " 6   Glassdoor Rating    87 non-null     float64\n",
      " 7   City                87 non-null     object \n",
      " 8   mergent_name        87 non-null     object \n",
      " 9   mergent_ticker      87 non-null     object \n",
      " 10  mergent_compnumber  87 non-null     int64  \n",
      " 11  mergent_mic         87 non-null     object \n",
      "dtypes: float64(1), int64(2), object(9)\n",
      "memory usage: 8.8+ KB\n"
     ]
    }
   ],
   "source": [
    "# Load key for Nasdaq API\n",
    "nasdaqdatalink.ApiConfig.api_key = api_key\n",
    "\n",
    "# Load .csv with 'Forbes 100 preferered employer ranking'; 'Glassdoor score'; 'Nasdaq/Mergent' codes\n",
    "forbes_source = pd.read_csv(\"resources/employers_clean.csv\")\n",
    "\n",
    "# Format .csv file\n",
    "forbes_source_clean = forbes_source.dropna(subset=['mergent_ticker']).astype({'mergent_compnumber' : 'int64'})\n",
    "\n",
    "# Parameters for Nasdaq query: list of insustrial sectors; financial metrics\n",
    "mic_extract = forbes_source_clean['mergent_mic'].unique()\n",
    "forbes_mics_forquery = list(mic_extract)\n",
    "mapcode = [\n",
    "    '-5011', # Return on Equity: (Net Income / Average Stockholders' Equity Over Period) * 100\n",
    "    '-4023'] # EPS – Net Income – Diluted\n",
    "\n",
    "# Run API \n",
    "forbes_df = nasdaqdatalink.get_table('MER/F1', mic=forbes_mics_forquery, mapcode=mapcode, reportdate='2021-12-31', reporttype='A')\n"
   ]
  },
  {
   "cell_type": "code",
   "execution_count": 24,
   "metadata": {},
   "outputs": [],
   "source": [
    "# Prepare empty lists for Nasdaq industry data\n",
    "compnumber_list = []\n",
    "ticker_list = []\n",
    "currency_list = []\n",
    "mic_list = []\n",
    "roe_list = []\n",
    "eps_list = []\n",
    "\n",
    "# Build Nasdaq industry data\n",
    "for index, row in forbes_df.iterrows():\n",
    "    if forbes_df.loc[index, 'mapcode'] == -5011:\n",
    "        cn = forbes_df.loc[index, 'compnumber']\n",
    "        tk = forbes_df.loc[index, 'ticker']\n",
    "        cl = forbes_df.loc[index, 'currency']\n",
    "        mc = forbes_df.loc[index, 'mic']\n",
    "        rt = forbes_df.loc[index, 'amount']\n",
    "        compnumber_list.append(cn)\n",
    "        ticker_list.append(tk)\n",
    "        currency_list.append(cl)\n",
    "        mic_list.append(mc)\n",
    "        roe_list.append(rt)\n",
    "\n",
    "industry_data_build = {\n",
    "    'comp_number' : compnumber_list, \n",
    "    'ticker' : ticker_list,\n",
    "    'currency' : currency_list,\n",
    "    'sector' : mic_list,\n",
    "    'ROE' : roe_list}\n",
    "\n",
    "industry_data_raw = pd.DataFrame(industry_data_build)\n",
    "industry_data_df = industry_data_raw.loc[(industry_data_raw[\"ROE\"]>-500) & (industry_data_raw[\"ROE\"]<500)]\n"
   ]
  },
  {
   "cell_type": "code",
   "execution_count": 33,
   "metadata": {},
   "outputs": [],
   "source": [
    "# Create column for industrial sectors summarised one level up in Forbes ranking\n",
    "forbes_mics_shortlist = []\n",
    "sector_col = []\n",
    "for index, row in forbes_source_clean.iterrows():\n",
    "    sector_col = forbes_source_clean.loc[index, 'mergent_mic']\n",
    "    x = sector_col.split(\".\")\n",
    "    forbes_mics_shortlist.append(f\"{x[0]}.{x[1]}\")\n",
    "forbes_source_clean[\"sector_short\"]= list(forbes_mics_shortlist)\n"
   ]
  },
  {
   "cell_type": "code",
   "execution_count": 36,
   "metadata": {},
   "outputs": [
    {
     "name": "stderr",
     "output_type": "stream",
     "text": [
      "/Users/javiergausachs/opt/anaconda3/envs/PythonData/lib/python3.7/site-packages/ipykernel_launcher.py:6: SettingWithCopyWarning: \n",
      "A value is trying to be set on a copy of a slice from a DataFrame.\n",
      "Try using .loc[row_indexer,col_indexer] = value instead\n",
      "\n",
      "See the caveats in the documentation: https://pandas.pydata.org/pandas-docs/stable/user_guide/indexing.html#returning-a-view-versus-a-copy\n",
      "  \n"
     ]
    }
   ],
   "source": [
    "# Create column for industrial sectors summarised one level up in Industy Data df\n",
    "sector_mics_shortlist =[]\n",
    "for index, row in industry_data_df.iterrows():\n",
    "    mic = industry_data_df.loc[index, 'sector']\n",
    "    sector_mics_shortlist.append(f\"{mic.split('.')[0]}.{mic.split('.')[1]}\")\n",
    "industry_data_df[\"sector_short\"]= list(sector_mics_shortlist)\n",
    "\n",
    "selected_mic = list(set(forbes_source_clean[\"sector_short\"]))\n"
   ]
  },
  {
   "cell_type": "code",
   "execution_count": 51,
   "metadata": {},
   "outputs": [],
   "source": [
    "# Add ROE column to ranked_cos df\n",
    "stripped_sectors_roes = industry_data_df.loc[:, [\"comp_number\", \"ROE\"]]\n",
    "sectors_ranked_wroes = forbes_source_clean.merge(stripped_sectors_roes, left_on=str(\"mergent_compnumber\"), right_on=str(\"comp_number\"))\n",
    "\n",
    "sectors_ranked_wroes_stat = sectors_ranked_wroes.groupby([\"sector_short\"]).mean()\n",
    "\n",
    "sector_ranked_41 = sectors_ranked_wroes.loc[sectors_ranked_wroes[\"sector_short\"]==\"4.1\"]\n"
   ]
  },
  {
   "cell_type": "code",
   "execution_count": 54,
   "metadata": {},
   "outputs": [
    {
     "data": {
      "image/png": "[encoded data removed]",
      "text/plain": [
       "<Figure size 360x576 with 1 Axes>"
      ]
     },
     "metadata": {
      "needs_background": "light"
     },
     "output_type": "display_data"
    },
    {
     "name": "stdout",
     "output_type": "stream",
     "text": [
      "The lower quartile of ROE is: 25.839274000000003\n",
      "The upper quartile of ROE is: 39.27313625\n",
      "The interquartile range of ROE is: 13.433862249999997\n",
      "The the median of ROE is: 34.983253 \n",
      "Values below 5.6884806250000075 could be outliers.\n",
      "Values above 59.423929625 could be outliers.\n"
     ]
    }
   ],
   "source": [
    "plot_selected_mic = sector_ranked_41[\"ROE\"]\n",
    "\n",
    "plot_xs = list(plot_selected_mic)\n",
    "plot_ys = [0] * len(plot_selected_mic)\n",
    "\n",
    "fig1, ax1 = plt.subplots(figsize=(5,8))\n",
    "ax1.set_title(f\"Pharmaceuticals = {len(plot_xs)}\")\n",
    "ax1.set_ylabel('ROE')\n",
    "ax1.plot(plot_ys, plot_xs, marker=\"o\", color=\"blue\", linewidth=1)\n",
    "plt.show()\n",
    "\n",
    "# Quartiles calculation\n",
    "quartiles = plot_selected_mic.quantile([.25,.5,.75])\n",
    "lowerq = quartiles[0.25]\n",
    "upperq = quartiles[0.75]\n",
    "iqr = upperq-lowerq\n",
    "\n",
    "print(f\"The lower quartile of ROE is: {lowerq}\")\n",
    "print(f\"The upper quartile of ROE is: {upperq}\")\n",
    "print(f\"The interquartile range of ROE is: {iqr}\")\n",
    "print(f\"The the median of ROE is: {quartiles[0.5]} \")\n",
    "\n",
    "lower_bound = lowerq - (1.5*iqr)\n",
    "upper_bound = upperq + (1.5*iqr)\n",
    "print(f\"Values below {lower_bound} could be outliers.\")\n",
    "print(f\"Values above {upper_bound} could be outliers.\")"
   ]
  },
  {
   "cell_type": "code",
   "execution_count": 56,
   "metadata": {},
   "outputs": [
    {
     "data": {
      "image/png": "[encoded data removed]",
      "text/plain": [
       "<Figure size 648x432 with 2 Axes>"
      ]
     },
     "metadata": {
      "needs_background": "light"
     },
     "output_type": "display_data"
    },
    {
     "name": "stdout",
     "output_type": "stream",
     "text": [
      "The lower quartile of ROE is: 7.895579\n",
      "The upper quartile of ROE is: 19.048945\n",
      "The interquartile range of ROE is: 11.153366\n",
      "The the median of ROE is: 13.039099 \n",
      "Values below -8.834470000000001 could be outliers.\n",
      "Values above 35.778994 could be outliers.\n"
     ]
    }
   ],
   "source": [
    "mic_names = pd.read_csv(\"resources/mergent_mic-codes.csv\").drop(columns=\"MIC\").dropna()\n",
    "\n",
    "# Plot of ROE for sector [0]\n",
    "selected = selected_mic[5]\n",
    "selected_name = mic_names.loc[mic_names[\"Code\"]==float(selected)]\n",
    "selected_name_l = list(selected_name[\"Description\"])\n",
    "\n",
    "plot_pre_x = industry_data_df.loc[industry_data_df[\"sector_short\"]==selected, \"ROE\"]\n",
    "plot_x = list(plot_pre_x)\n",
    "plot_y = [0] * len(plot_x)\n",
    "\n",
    "fig1, axs = plt.subplots(1,2, figsize=(9, 6), sharey=True)\n",
    "axs[0].boxplot(plot_x)\n",
    "axs[1].plot(plot_ys, plot_xs, marker=\"o\", color=\"blue\", linewidth=1)\n",
    "plt.show()\n",
    "\n",
    "# Quartiles calculation\n",
    "quartiles = plot_pre_x.quantile([.25,.5,.75])\n",
    "lowerq = quartiles[0.25]\n",
    "upperq = quartiles[0.75]\n",
    "iqr = upperq-lowerq\n",
    "\n",
    "print(f\"The lower quartile of ROE is: {lowerq}\")\n",
    "print(f\"The upper quartile of ROE is: {upperq}\")\n",
    "print(f\"The interquartile range of ROE is: {iqr}\")\n",
    "print(f\"The the median of ROE is: {quartiles[0.5]} \")\n",
    "\n",
    "lower_bound = lowerq - (1.5*iqr)\n",
    "upper_bound = upperq + (1.5*iqr)\n",
    "print(f\"Values below {lower_bound} could be outliers.\")\n",
    "print(f\"Values above {upper_bound} could be outliers.\")\n"
   ]
  },
  {
   "cell_type": "code",
   "execution_count": 58,
   "metadata": {},
   "outputs": [
    {
     "data": {
      "text/plain": [
       "Ttest_1sampResult(statistic=3.5411438074270634, pvalue=0.038332355292852664)"
      ]
     },
     "execution_count": 58,
     "metadata": {},
     "output_type": "execute_result"
    }
   ],
   "source": [
    "stats.ttest_1samp(plot_xs, mean(plot_x))"
   ]
  },
  {
   "cell_type": "code",
   "execution_count": 59,
   "metadata": {},
   "outputs": [
    {
     "data": {
      "text/plain": [
       "<AxesSubplot:title={'center':'ROE'}, xlabel='sector_short'>"
      ]
     },
     "execution_count": 59,
     "metadata": {},
     "output_type": "execute_result"
    },
    {
     "data": {
      "image/png": "[encoded data removed]",
      "text/plain": [
       "<Figure size 1440x720 with 1 Axes>"
      ]
     },
     "metadata": {
      "needs_background": "light"
     },
     "output_type": "display_data"
    }
   ],
   "source": [
    "industry_data_df.boxplot(\"ROE\", by=\"sector_short\", figsize=(20, 10))"
   ]
  }
 ],
 "metadata": {
  "kernelspec": {
   "display_name": "Python 3 (ipykernel)",
   "language": "python",
   "name": "python3"
  },
  "language_info": {
   "codemirror_mode": {
    "name": "ipython",
    "version": 3
   },
   "file_extension": ".py",
   "mimetype": "text/x-python",
   "name": "python",
   "nbconvert_exporter": "python",
   "pygments_lexer": "ipython3",
   "version": "3.7.7"
  },
  "vscode": {
   "interpreter": {
    "hash": "4c976a1b9d2c923b621593b0d486284bf9c85301f8d1680dda203578917d80a9"
   }
  }
 },
 "nbformat": 4,
 "nbformat_minor": 2
}
